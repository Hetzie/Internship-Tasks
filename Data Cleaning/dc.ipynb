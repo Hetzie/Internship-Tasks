{
 "cells": [
  {
   "cell_type": "code",
   "execution_count": 93,
   "metadata": {},
   "outputs": [],
   "source": [
    "import pandas as pd\n",
    "import numpy as np"
   ]
  },
  {
   "cell_type": "code",
   "execution_count": 90,
   "metadata": {},
   "outputs": [
    {
     "data": {
      "text/html": [
       "<div>\n",
       "<style scoped>\n",
       "    .dataframe tbody tr th:only-of-type {\n",
       "        vertical-align: middle;\n",
       "    }\n",
       "\n",
       "    .dataframe tbody tr th {\n",
       "        vertical-align: top;\n",
       "    }\n",
       "\n",
       "    .dataframe thead th {\n",
       "        text-align: right;\n",
       "    }\n",
       "</style>\n",
       "<table border=\"1\" class=\"dataframe\">\n",
       "  <thead>\n",
       "    <tr style=\"text-align: right;\">\n",
       "      <th></th>\n",
       "      <th>MOVIES</th>\n",
       "      <th>YEAR</th>\n",
       "      <th>GENRE</th>\n",
       "      <th>RATING</th>\n",
       "      <th>ONE-LINE</th>\n",
       "      <th>STARS</th>\n",
       "      <th>VOTES</th>\n",
       "      <th>RunTime</th>\n",
       "      <th>Gross</th>\n",
       "    </tr>\n",
       "  </thead>\n",
       "  <tbody>\n",
       "    <tr>\n",
       "      <th>0</th>\n",
       "      <td>Blood Red Sky</td>\n",
       "      <td>(2021)</td>\n",
       "      <td>\\nAction, Horror, Thriller</td>\n",
       "      <td>6.1</td>\n",
       "      <td>\\nA woman with a mysterious illness is forced ...</td>\n",
       "      <td>\\n    Director:\\nPeter Thorwarth\\n| \\n    Star...</td>\n",
       "      <td>21,062</td>\n",
       "      <td>121.0</td>\n",
       "      <td>NaN</td>\n",
       "    </tr>\n",
       "    <tr>\n",
       "      <th>1</th>\n",
       "      <td>Masters of the Universe: Revelation</td>\n",
       "      <td>(2021– )</td>\n",
       "      <td>\\nAnimation, Action, Adventure</td>\n",
       "      <td>5.0</td>\n",
       "      <td>\\nThe war for Eternia begins again in what may...</td>\n",
       "      <td>\\n            \\n    Stars:\\nChris Wood, \\nSara...</td>\n",
       "      <td>17,870</td>\n",
       "      <td>25.0</td>\n",
       "      <td>NaN</td>\n",
       "    </tr>\n",
       "    <tr>\n",
       "      <th>2</th>\n",
       "      <td>The Walking Dead</td>\n",
       "      <td>(2010–2022)</td>\n",
       "      <td>\\nDrama, Horror, Thriller</td>\n",
       "      <td>8.2</td>\n",
       "      <td>\\nSheriff Deputy Rick Grimes wakes up from a c...</td>\n",
       "      <td>\\n            \\n    Stars:\\nAndrew Lincoln, \\n...</td>\n",
       "      <td>885,805</td>\n",
       "      <td>44.0</td>\n",
       "      <td>NaN</td>\n",
       "    </tr>\n",
       "    <tr>\n",
       "      <th>3</th>\n",
       "      <td>Rick and Morty</td>\n",
       "      <td>(2013– )</td>\n",
       "      <td>\\nAnimation, Adventure, Comedy</td>\n",
       "      <td>9.2</td>\n",
       "      <td>\\nAn animated series that follows the exploits...</td>\n",
       "      <td>\\n            \\n    Stars:\\nJustin Roiland, \\n...</td>\n",
       "      <td>414,849</td>\n",
       "      <td>23.0</td>\n",
       "      <td>NaN</td>\n",
       "    </tr>\n",
       "    <tr>\n",
       "      <th>4</th>\n",
       "      <td>Army of Thieves</td>\n",
       "      <td>(2021)</td>\n",
       "      <td>\\nAction, Crime, Horror</td>\n",
       "      <td>NaN</td>\n",
       "      <td>\\nA prequel, set before the events of Army of ...</td>\n",
       "      <td>\\n    Director:\\nMatthias Schweighöfer\\n| \\n  ...</td>\n",
       "      <td>NaN</td>\n",
       "      <td>NaN</td>\n",
       "      <td>NaN</td>\n",
       "    </tr>\n",
       "  </tbody>\n",
       "</table>\n",
       "</div>"
      ],
      "text/plain": [
       "                                MOVIES         YEAR  \\\n",
       "0                        Blood Red Sky       (2021)   \n",
       "1  Masters of the Universe: Revelation     (2021– )   \n",
       "2                     The Walking Dead  (2010–2022)   \n",
       "3                       Rick and Morty     (2013– )   \n",
       "4                      Army of Thieves       (2021)   \n",
       "\n",
       "                                        GENRE  RATING  \\\n",
       "0      \\nAction, Horror, Thriller                 6.1   \n",
       "1  \\nAnimation, Action, Adventure                 5.0   \n",
       "2       \\nDrama, Horror, Thriller                 8.2   \n",
       "3  \\nAnimation, Adventure, Comedy                 9.2   \n",
       "4         \\nAction, Crime, Horror                 NaN   \n",
       "\n",
       "                                            ONE-LINE  \\\n",
       "0  \\nA woman with a mysterious illness is forced ...   \n",
       "1  \\nThe war for Eternia begins again in what may...   \n",
       "2  \\nSheriff Deputy Rick Grimes wakes up from a c...   \n",
       "3  \\nAn animated series that follows the exploits...   \n",
       "4  \\nA prequel, set before the events of Army of ...   \n",
       "\n",
       "                                               STARS    VOTES  RunTime Gross  \n",
       "0  \\n    Director:\\nPeter Thorwarth\\n| \\n    Star...   21,062    121.0   NaN  \n",
       "1  \\n            \\n    Stars:\\nChris Wood, \\nSara...   17,870     25.0   NaN  \n",
       "2  \\n            \\n    Stars:\\nAndrew Lincoln, \\n...  885,805     44.0   NaN  \n",
       "3  \\n            \\n    Stars:\\nJustin Roiland, \\n...  414,849     23.0   NaN  \n",
       "4  \\n    Director:\\nMatthias Schweighöfer\\n| \\n  ...      NaN      NaN   NaN  "
      ]
     },
     "execution_count": 90,
     "metadata": {},
     "output_type": "execute_result"
    }
   ],
   "source": [
    "movies_df= pd.read_csv('./movies.csv')\n",
    "movies_df.head()"
   ]
  },
  {
   "cell_type": "markdown",
   "metadata": {},
   "source": [
    "### Observation:\n",
    "- year column should be int\n",
    "- \\n before str in genre, one-line and stars\n",
    "- many unknown genre\n",
    "- in stars get director and star differently"
   ]
  },
  {
   "cell_type": "code",
   "execution_count": 3,
   "metadata": {},
   "outputs": [
    {
     "data": {
      "text/plain": [
       "(9999, 9)"
      ]
     },
     "execution_count": 3,
     "metadata": {},
     "output_type": "execute_result"
    }
   ],
   "source": [
    "movies_df.shape"
   ]
  },
  {
   "cell_type": "code",
   "execution_count": 327,
   "metadata": {},
   "outputs": [],
   "source": [
    "# copy data\n",
    "df = movies_df.copy()"
   ]
  },
  {
   "cell_type": "code",
   "execution_count": 328,
   "metadata": {},
   "outputs": [
    {
     "name": "stdout",
     "output_type": "stream",
     "text": [
      "<class 'pandas.core.frame.DataFrame'>\n",
      "RangeIndex: 9999 entries, 0 to 9998\n",
      "Data columns (total 9 columns):\n",
      " #   Column    Non-Null Count  Dtype  \n",
      "---  ------    --------------  -----  \n",
      " 0   MOVIES    9999 non-null   object \n",
      " 1   YEAR      9355 non-null   object \n",
      " 2   GENRE     9919 non-null   object \n",
      " 3   RATING    8179 non-null   float64\n",
      " 4   ONE-LINE  9999 non-null   object \n",
      " 5   STARS     9999 non-null   object \n",
      " 6   VOTES     8179 non-null   object \n",
      " 7   RunTime   7041 non-null   float64\n",
      " 8   Gross     460 non-null    object \n",
      "dtypes: float64(2), object(7)\n",
      "memory usage: 703.2+ KB\n"
     ]
    }
   ],
   "source": [
    "df.info()"
   ]
  },
  {
   "cell_type": "markdown",
   "metadata": {},
   "source": [
    "### Observation\n",
    "- votes should be float (int can't work on NaN values)"
   ]
  },
  {
   "cell_type": "code",
   "execution_count": 329,
   "metadata": {},
   "outputs": [
    {
     "data": {
      "text/plain": [
       "MOVIES         0\n",
       "YEAR         644\n",
       "GENRE         80\n",
       "RATING      1820\n",
       "ONE-LINE       0\n",
       "STARS          0\n",
       "VOTES       1820\n",
       "RunTime     2958\n",
       "Gross       9539\n",
       "dtype: int64"
      ]
     },
     "execution_count": 329,
     "metadata": {},
     "output_type": "execute_result"
    }
   ],
   "source": [
    "# Check null values\n",
    "df.isna().sum()"
   ]
  },
  {
   "cell_type": "code",
   "execution_count": 330,
   "metadata": {},
   "outputs": [
    {
     "data": {
      "text/plain": [
       "MOVIES       0.000000\n",
       "YEAR         6.440644\n",
       "GENRE        0.800080\n",
       "RATING      18.201820\n",
       "ONE-LINE     0.000000\n",
       "STARS        0.000000\n",
       "VOTES       18.201820\n",
       "RunTime     29.582958\n",
       "Gross       95.399540\n",
       "dtype: float64"
      ]
     },
     "execution_count": 330,
     "metadata": {},
     "output_type": "execute_result"
    }
   ],
   "source": [
    "# check percentage of null data\n",
    "100*df.isnull().sum()/df.shape[0]"
   ]
  },
  {
   "cell_type": "code",
   "execution_count": 331,
   "metadata": {},
   "outputs": [
    {
     "data": {
      "text/plain": [
       "np.int64(431)"
      ]
     },
     "execution_count": 331,
     "metadata": {},
     "output_type": "execute_result"
    }
   ],
   "source": [
    "# check duplicates\n",
    "df.duplicated().sum()"
   ]
  },
  {
   "cell_type": "markdown",
   "metadata": {},
   "source": [
    "### Data Cleaning"
   ]
  },
  {
   "cell_type": "code",
   "execution_count": 332,
   "metadata": {},
   "outputs": [
    {
     "data": {
      "text/plain": [
       "Index(['movies', 'year', 'genre', 'rating', 'one-line', 'stars', 'votes',\n",
       "       'runtime', 'gross'],\n",
       "      dtype='object')"
      ]
     },
     "execution_count": 332,
     "metadata": {},
     "output_type": "execute_result"
    }
   ],
   "source": [
    "# remname column name to small and remove all talling splaces \n",
    "df.columns = df.columns.str.strip().str.lower()\n",
    "df.columns"
   ]
  },
  {
   "cell_type": "code",
   "execution_count": 333,
   "metadata": {},
   "outputs": [
    {
     "data": {
      "text/plain": [
       "array(['(2021)', '(2021– )', '(2010–2022)', '(2013– )', '(2020– )',\n",
       "       '(2006–2013)', '(2019– )', '(2016–2021)', '(2011– )', '(2005– )',\n",
       "       '(2008–2013)', '(2017– )', '(2017–2021)', '(2016– )',\n",
       "       '(1994–2004)', '(2014– )', '(2013–2020)', '(2015– )',\n",
       "       '(2005–2020)', '(2013–2022)', '(2003– )', '(2009–2020)',\n",
       "       '(I) (2018– )', '(2010–2015)', '(2011–2019)', '(2015–2020)',\n",
       "       '(2005–2014)', '(2009–2015)', '(2008–2014)', '(2016–2018)',\n",
       "       '(2009–2017)', '(2020)', '(2018–2021)', '(2017–2020)',\n",
       "       '(1987–1994)', '(2018– )', '(2012– )', '(2014–2020)',\n",
       "       '(2011–2018)', '(2005–2017)', '(2017)', '(2007–2015)',\n",
       "       '(2000–2007)', '(II) (2007– )', '(1993)', '(1999–2022)',\n",
       "       '(2015–2018)', '(2014–2019)', '(2016)', '(2012–2020)',\n",
       "       '(2013–2019)', '(2007–2012)', '(2011–2020)', '(2010–2017)',\n",
       "       '(2000–2015)', '(2015–2021)', '(2001)', '(1997– )', '(2011–2017)',\n",
       "       '(1993–1999)', '(1989–1998)', '(2010–2013)', '(2010–2020)',\n",
       "       '(2003–2019)', '(I) (2019)', '(2017–2019)', '(1975)',\n",
       "       '(2005–2008)', '(1995–2001)', '(2006)', '(2015–2017)',\n",
       "       '(2008–2020)', '(1984–1996)', '(2010– )', '(2014)', '(2000)',\n",
       "       '(2013–2018)', '(2009–2016)', '(2016–2020)', '(2021 TV Special)',\n",
       "       '(2003)', '(1998–2003)', '(I) (2017)', '(1966–1969)', '(2009– )',\n",
       "       '(2019)', '(1990–1991)', '(2012)', '(1995)', '(2020–2021)',\n",
       "       '(2013–2017)', '(2015)', '(2019–2020)', '(2017–2018)',\n",
       "       '(2013–2015)', '(2012–2017)', '(I) (2013–2016)', '(2002)',\n",
       "       '(I) (2020)', '(III) (2021)', '(2018)', '(II) (2016)', '(1976)',\n",
       "       '(1978)', '(2016–2019)', '(2009–2014)', '(2022)', '(2011–2014)',\n",
       "       '(2007–2013)', '(2006–2007)', '(2002–2007)', '(2014–2017)',\n",
       "       '(2010–2019)', '(2008– )', '(2012–2019)', '(2014–2016)',\n",
       "       '(2009–2012)', '(2018–2020)', '(2001–2005)', '(2011–2015)',\n",
       "       '(2014–2018)', '(2015–2019)', '(1982–1993)', '(1998– )', '(1968)',\n",
       "       '(2010–2018)', '(2014–2021)', '(2007–2010)', '(2011)',\n",
       "       '(2013–2021)', '(1990–1996)', '(2004)', '(2007–2014)',\n",
       "       '(1996–2001)', '(2013)', '(2008)', '(1999–2000)', '(2012–2014)',\n",
       "       '(I) (2013)', '(2012–2018)', '(2018–2019)', '(2009–2013)',\n",
       "       '(1971)', '(2004– )', '(1989)', '(1998)', '(2001–2018)',\n",
       "       '(1987–1995)', '(I) (2014)', '(1998–2020)', '(I) (2015)', '(1997)',\n",
       "       '(2004–2013)', '(2002– )', '(2010)', '(I) (2016)', '(II) (2017– )',\n",
       "       '(I) (2018)', '(I) (2021)', '(2004–2012)', '(2019–2021)',\n",
       "       '(IV) (2020)', '(2006–2010)', '(2006–2012)', '(1996)',\n",
       "       '(1994–2000)', '(II) (2020)', '(1980)', '(I) (2011)',\n",
       "       '(1995–1996)', '(2016–2017)', '(1993–1996)', '(II) (2019– )',\n",
       "       '(2009)', '(1962)', '(1991)', '(2022– )', '(II) (2017)',\n",
       "       '(I) (2012)', '(1984)', '(2011–2016)', '(2009–2019)',\n",
       "       '(II) (2020– )', '(2006–2021)', '(I) (2010)', '(2012–2015)',\n",
       "       '(I) (2013–2014)', '(1960)', '(1988)', '(2007)', '(1987)',\n",
       "       '(2010–2011)', '(1969)', '(2006–2011)', '(II) (2019)', '(1961)',\n",
       "       '(1979)', '(II) (2022)', '(2014–2015)', '(1956)', '(2013–2016)',\n",
       "       '(III) (2018)', '(2005)', '(II) (2012– )', '(II) (2013)', '(1983)',\n",
       "       '(2002–2019)', '(2013 TV Movie)', '(II) (2015)', '(I) (2012–2015)',\n",
       "       '(1975–1979)', '(1990)', nan, '(II) (2018)', '(IV) (2021)',\n",
       "       '(2015–2016)', '(1995–1998)', '(1986)', '(2012–2013)', '(1966)',\n",
       "       '(2011–2012)', '(2011–2021)', '(2016 Video)', '(2017 TV Movie)',\n",
       "       '(2009–2011)', '(2004–2018)', '(1967)', '(1984– )', '(1994)',\n",
       "       '(2003–2006)', '(III) (2015)', '(1974)', '(2000–2004)',\n",
       "       '(1984–2021)', '(I)', '(II) (2021)', '(1994–1999)', '(III)',\n",
       "       '(1992)', '(1969–1974)', '(2012–2016)', '(2013–2014)',\n",
       "       '(I) (2008)', '(1958)', '(2008–2009)', '(II) (2004)',\n",
       "       '(III) (2019)', '(2006–2009)', '(2011–2013)', '(2007–2008)',\n",
       "       '(1988–1999)', '(2010–2012)', '(2010–2014)', '(II) (2012)',\n",
       "       '(1932)', '(2014 TV Movie)', '(1941)', '(2006– )', '(1992–1995)',\n",
       "       '(2016 TV Special)', '(2020 TV Movie)', '(2008–2010)', '(II)',\n",
       "       '(2020 Video)', '(1999– )', '(1950)', '(2020 TV Special)',\n",
       "       '(1992–2014)', '(2002–2005)', '(2013 TV Special)', '(I) (2021– )',\n",
       "       '(1999)', '(2016 TV Movie)', '(XII)', '(VII)', '(2021 TV Movie)',\n",
       "       '(1983– )', '(1996 Video)', '(1993 TV Movie)', '(2018 TV Movie)',\n",
       "       '(2005–2009)', '(2001–2002)', '(2015 TV Movie)', '(I) (2020– )',\n",
       "       '(2011 Video)', '(2008 Video)', '(2012 Video)', '(1946)',\n",
       "       '(II) (2014)', '(2019 Video)', '(1981–1989)', '(IV) (2016)',\n",
       "       '(III) (2016)', '(2019 TV Movie)', '(1952)', '(2007 Video)',\n",
       "       '(2000–2014)', '(1992– )', '(1957)', '(2003–2007)', '(IV)',\n",
       "       '(2008–2017)', '(2008–2019)', '(1998–2000)', '(I) (2004)',\n",
       "       '(2007–2016)', '(2017 TV Special)', '(2009 TV Movie)',\n",
       "       '(2013 Video)', '(2017 Video)', '(1994–1996)', '(IV) (2017)',\n",
       "       '(IV) (2018)', '(2007– )', '(1954)', '(2012 TV Movie)', '(1995– )',\n",
       "       '(1982)', '(1955)', '(2014 TV Short)', '(I) (2022– )',\n",
       "       '(I) (2019–2020)', '(1975 TV Movie)', '(2019 TV Special)',\n",
       "       '(2015 TV Special)', '(2015 TV Short)', '(2018 TV Special)',\n",
       "       '(1948)', '(2014 Video)', '(VI) (2014)', '(2003–2013)',\n",
       "       '(2021 Video)', '(1947)', '(2001– )', '(II) (2021– )',\n",
       "       '(1997–2000)', '(III) (2020)', '(I) (2019– )', '(1993– )',\n",
       "       '(1977)', '(I) (2009)', '(V)', '(2023)', '(I) (2000)',\n",
       "       '(TV Special)', '(II) (2011)', '(TV Movie)', '(1945)',\n",
       "       '(2015 Video)', '(III) (2010)', '(2009 Video)', '(1998–2002)',\n",
       "       '(2008 TV Movie)', '(2019 TV Short)', '(2004 Video)',\n",
       "       '(II) (1998)', '(2014 TV Special)', '(1953)', '(1985)', '(VIII)',\n",
       "       '(1973)', '(2012 TV Special)', '(V) (2016)', '(1972)',\n",
       "       '(V) (2018)', '(II) (2010)', '(2021 TV Short)', '(VI) (2019)',\n",
       "       '(I) (2005)', '(1965)', '(2010–2016)', '(V) (2010)', '(2005–2013)',\n",
       "       '(2006 TV Special)', '(2006 Video)', '(2011 TV Movie)',\n",
       "       '(1988 TV Movie)', '(XXIII)', '(2011 TV Special)',\n",
       "       '(2020 TV Short)', '(VI) (2018)', '(2008 TV Special)',\n",
       "       '(1998–1999)', '(I) (2015– )', '(III) (2012)', '(VI)',\n",
       "       '(2010 TV Special)', '(III) (2017)', '(1993 TV Special)',\n",
       "       '(2004–2005)', '(1992 Video)', '(1989 TV Special)', '(XI)',\n",
       "       '(III) (2014)', '(1966 TV Special)', '(1999 TV Movie)',\n",
       "       '(1987 TV Special)', '(1944)', '(1998 TV Special)',\n",
       "       '(2006 TV Movie)', '(2022 TV Special)', '(1989 Video)',\n",
       "       '(1991 TV Special)', '(XLI)', '(IV) (2014)', '(2005 Video)',\n",
       "       '(2007 TV Special)', '(1965 TV Special)', '(1990 TV Special)',\n",
       "       '(2001 TV Special)', '(IX)', '(II) (2016– )', '(XIV) (2017)',\n",
       "       '(2009–2010)', '(XIII)', '(II) (2012–2019)', '(1933)',\n",
       "       '(II) (2009)', '(2010 Video)', '(2009 TV Special)', '(1938)',\n",
       "       '(2003 TV Special)', '(Video)', '(2001 TV Movie)', '(VI) (2016)',\n",
       "       '(III) (2011)', '(2007 TV Movie)', '(2017 TV Short)',\n",
       "       '(2018 Video)', '(2000 Video)', '(1995 Video)', '(2003 Video)',\n",
       "       '(II) (2016 TV Movie)', '(1998 Video)', '(2005 TV Special)',\n",
       "       '(2004–2009)', '(2018 Video Game)', '(1988– )', '(1985– )'],\n",
       "      dtype=object)"
      ]
     },
     "execution_count": 333,
     "metadata": {},
     "output_type": "execute_result"
    }
   ],
   "source": [
    "df['year'].unique()"
   ]
  },
  {
   "cell_type": "code",
   "execution_count": 334,
   "metadata": {},
   "outputs": [
    {
     "data": {
      "text/plain": [
       "array([2021., 2010., 2013., 2020., 2006., 2019., 2016., 2011., 2005.,\n",
       "       2008., 2017., 1994., 2014., 2015., 2003., 2009., 2018., 1987.,\n",
       "       2012., 2007., 2000., 1993., 1999., 2001., 1997., 1989., 1975.,\n",
       "       1995., 1984., 1998., 1966., 1990., 2002., 1976., 1978., 2022.,\n",
       "       1982., 1968., 2004., 1996., 1971., 1980., 1962., 1991., 1960.,\n",
       "       1988., 1969., 1961., 1979., 1956., 1983.,   nan, 1986., 1967.,\n",
       "       1974., 1992., 1958., 1932., 1941., 1950., 1946., 1981., 1952.,\n",
       "       1957., 1954., 1955., 1948., 1947., 1977., 2023., 1945., 1953.,\n",
       "       1985., 1973., 1972., 1965., 1944., 1933., 1938.])"
      ]
     },
     "execution_count": 334,
     "metadata": {},
     "output_type": "execute_result"
    }
   ],
   "source": [
    "# remove all characters and convert year to int\n",
    "df['year'] = df['year'].str.extract(r'(\\d{4})', expand=False).astype(float)\n",
    "df['year'].unique()"
   ]
  },
  {
   "cell_type": "code",
   "execution_count": 335,
   "metadata": {},
   "outputs": [
    {
     "data": {
      "text/plain": [
       "0        Action, Horror, Thriller\n",
       "1    Animation, Action, Adventure\n",
       "2         Drama, Horror, Thriller\n",
       "3    Animation, Adventure, Comedy\n",
       "4           Action, Crime, Horror\n",
       "Name: genre, dtype: object"
      ]
     },
     "execution_count": 335,
     "metadata": {},
     "output_type": "execute_result"
    }
   ],
   "source": [
    "df['genre'] = df['genre'].str.strip()\n",
    "df['genre'][:5]"
   ]
  },
  {
   "cell_type": "code",
   "execution_count": 336,
   "metadata": {},
   "outputs": [
    {
     "data": {
      "text/plain": [
       "0       A woman with a mysterious illness is forced in...\n",
       "1       The war for Eternia begins again in what may b...\n",
       "2       Sheriff Deputy Rick Grimes wakes up from a com...\n",
       "3       An animated series that follows the exploits o...\n",
       "4       A prequel set before the events of Army of the...\n",
       "                              ...                        \n",
       "9994                                              Unknown\n",
       "9995                                              Unknown\n",
       "9996                                              Unknown\n",
       "9997                                              Unknown\n",
       "9998                                              Unknown\n",
       "Name: one-line, Length: 9999, dtype: object"
      ]
     },
     "execution_count": 336,
     "metadata": {},
     "output_type": "execute_result"
    }
   ],
   "source": [
    "df['one-line'] = df['one-line'].str.strip()  # Strip whitespace\n",
    "df['one-line'] = df['one-line'].replace('Add a Plot', 'Unknown')  # Replace 'Add a Plot' with 'Unknown'\n",
    "df['one-line'] = df['one-line'].str.replace(r'[^\\w\\s]', '', regex=True)  # Remove non-alphanumeric characters\n",
    "df['one-line'] "
   ]
  },
  {
   "cell_type": "code",
   "execution_count": 337,
   "metadata": {},
   "outputs": [
    {
     "data": {
      "text/plain": [
       "0       6.1\n",
       "1       5.0\n",
       "2       8.2\n",
       "3       9.2\n",
       "4       NaN\n",
       "       ... \n",
       "9994    NaN\n",
       "9995    NaN\n",
       "9996    NaN\n",
       "9997    NaN\n",
       "9998    NaN\n",
       "Name: rating, Length: 9999, dtype: float64"
      ]
     },
     "execution_count": 337,
     "metadata": {},
     "output_type": "execute_result"
    }
   ],
   "source": [
    "pd.to_numeric(df['rating'], errors='coerce')"
   ]
  },
  {
   "cell_type": "code",
   "execution_count": 338,
   "metadata": {},
   "outputs": [],
   "source": [
    "def get_stars(text):\n",
    "    director = None\n",
    "    stars = None\n",
    "    if 'Director:' in text:\n",
    "        director = text.split('Director:\\n')[1].split('\\n|')[0].strip()\n",
    "    if 'Stars:' in text:\n",
    "        stars = text.split('Stars:\\n')[1].replace('\\n','').strip()\n",
    "    return director, stars"
   ]
  },
  {
   "cell_type": "code",
   "execution_count": 340,
   "metadata": {},
   "outputs": [
    {
     "data": {
      "text/plain": [
       "0    Peri Baumeister, Carl Anton Koch, Alexander Sc...\n",
       "1    Chris Wood, Sarah Michelle Gellar, Lena Headey...\n",
       "2    Andrew Lincoln, Norman Reedus, Melissa McBride...\n",
       "3    Justin Roiland, Chris Parnell, Spencer Grammer...\n",
       "4    Matthias Schweighöfer, Nathalie Emmanuel, Ruby...\n",
       "Name: stars, dtype: object"
      ]
     },
     "execution_count": 340,
     "metadata": {},
     "output_type": "execute_result"
    }
   ],
   "source": [
    "df[['director','stars']] = df['stars'].apply(lambda x : pd.Series(get_stars(x)))\n",
    "df['stars'] = df['stars'].apply(lambda x: x if x !=None else 'Unkonwn')\n",
    "df['stars'].head()"
   ]
  },
  {
   "cell_type": "code",
   "execution_count": 356,
   "metadata": {},
   "outputs": [],
   "source": [
    "df['director'] = df['director'].apply(lambda x: x if x !=None else 'Unkonwn')\n"
   ]
  },
  {
   "cell_type": "code",
   "execution_count": 341,
   "metadata": {},
   "outputs": [
    {
     "data": {
      "text/plain": [
       "0     21062.0\n",
       "1     17870.0\n",
       "2    885805.0\n",
       "3    414849.0\n",
       "4         NaN\n",
       "Name: votes, dtype: float64"
      ]
     },
     "execution_count": 341,
     "metadata": {},
     "output_type": "execute_result"
    }
   ],
   "source": [
    "df['votes']=df['votes'].str.replace(',', '').astype(float)\n",
    "df['votes'].head()"
   ]
  },
  {
   "cell_type": "code",
   "execution_count": 342,
   "metadata": {},
   "outputs": [
    {
     "data": {
      "text/plain": [
       "array([nan, 'M'], dtype=object)"
      ]
     },
     "execution_count": 342,
     "metadata": {},
     "output_type": "execute_result"
    }
   ],
   "source": [
    "# gross\n",
    "df['gross'].str[-1].unique()"
   ]
  },
  {
   "cell_type": "markdown",
   "metadata": {},
   "source": [
    "### Observation\n",
    "- have to change str with M (Million) to float (for Nan values)"
   ]
  },
  {
   "cell_type": "code",
   "execution_count": 343,
   "metadata": {},
   "outputs": [],
   "source": [
    "def convertGrossToFloat(gross):\n",
    "    if pd.isna(gross): return np.nan\n",
    "    if 'M' in gross: return float(gross.replace('M', '').replace('$',''))* 1_000_000\n",
    "    return float(gross)"
   ]
  },
  {
   "cell_type": "code",
   "execution_count": 344,
   "metadata": {},
   "outputs": [],
   "source": [
    "df['gross'] = df['gross'].apply(convertGrossToFloat)"
   ]
  },
  {
   "cell_type": "code",
   "execution_count": 353,
   "metadata": {},
   "outputs": [
    {
     "data": {
      "text/plain": [
       "6568            NaN\n",
       "2764            NaN\n",
       "7525            NaN\n",
       "8577            NaN\n",
       "9814            NaN\n",
       "444             NaN\n",
       "6919            NaN\n",
       "617             NaN\n",
       "5459            NaN\n",
       "767     101200000.0\n",
       "5031            NaN\n",
       "4407            NaN\n",
       "2614            NaN\n",
       "2638            NaN\n",
       "1686        10000.0\n",
       "8736            NaN\n",
       "4946            NaN\n",
       "3377            NaN\n",
       "2519            NaN\n",
       "5877            NaN\n",
       "Name: gross, dtype: float64"
      ]
     },
     "execution_count": 353,
     "metadata": {},
     "output_type": "execute_result"
    }
   ],
   "source": [
    "df['gross'].sample(20)"
   ]
  },
  {
   "cell_type": "markdown",
   "metadata": {},
   "source": [
    "### Fill Null Values"
   ]
  },
  {
   "cell_type": "code",
   "execution_count": 386,
   "metadata": {},
   "outputs": [],
   "source": [
    "df2 = df.copy()"
   ]
  },
  {
   "cell_type": "code",
   "execution_count": 387,
   "metadata": {},
   "outputs": [
    {
     "data": {
      "text/plain": [
       "movies         0\n",
       "year         748\n",
       "genre         80\n",
       "rating      1820\n",
       "one-line       0\n",
       "stars          0\n",
       "votes       1820\n",
       "runtime     2958\n",
       "gross       9539\n",
       "director       0\n",
       "dtype: int64"
      ]
     },
     "execution_count": 387,
     "metadata": {},
     "output_type": "execute_result"
    }
   ],
   "source": [
    "df2.isnull().sum()"
   ]
  },
  {
   "cell_type": "code",
   "execution_count": 388,
   "metadata": {},
   "outputs": [
    {
     "data": {
      "text/plain": [
       "np.int64(0)"
      ]
     },
     "execution_count": 388,
     "metadata": {},
     "output_type": "execute_result"
    }
   ],
   "source": [
    "# replacing null year by central value\n",
    "df2['year']=df2['year'].fillna(df2['year'].median())\n",
    "df2['year'].isnull().sum()"
   ]
  },
  {
   "cell_type": "code",
   "execution_count": 389,
   "metadata": {},
   "outputs": [],
   "source": [
    "# replacing genere by most common grnre\n",
    "df2['genre']=df2['genre'].mode()[0]"
   ]
  },
  {
   "cell_type": "code",
   "execution_count": 390,
   "metadata": {},
   "outputs": [],
   "source": [
    "# replacing null rating with most common rating\n",
    "df2['rating'] = df2['rating'].mode()[0]"
   ]
  },
  {
   "cell_type": "code",
   "execution_count": 391,
   "metadata": {},
   "outputs": [],
   "source": [
    "# replacing null votes by central value\n",
    "df2['votes'] = df2['votes'].fillna(df2['votes'].median())"
   ]
  },
  {
   "cell_type": "code",
   "execution_count": 392,
   "metadata": {},
   "outputs": [],
   "source": [
    "# replacing with central value\n",
    "df2['runtime'] = df2['runtime'].fillna(df2['runtime'].median())"
   ]
  },
  {
   "cell_type": "code",
   "execution_count": 393,
   "metadata": {},
   "outputs": [],
   "source": [
    "# replacing gross with most common gross value\n",
    "df2['gross'] = df2['gross'].mode()[0]"
   ]
  },
  {
   "cell_type": "code",
   "execution_count": 394,
   "metadata": {},
   "outputs": [
    {
     "data": {
      "text/plain": [
       "movies      0\n",
       "year        0\n",
       "genre       0\n",
       "rating      0\n",
       "one-line    0\n",
       "stars       0\n",
       "votes       0\n",
       "runtime     0\n",
       "gross       0\n",
       "director    0\n",
       "dtype: int64"
      ]
     },
     "execution_count": 394,
     "metadata": {},
     "output_type": "execute_result"
    }
   ],
   "source": [
    "df2.isnull().sum()"
   ]
  }
 ],
 "metadata": {
  "kernelspec": {
   "display_name": "base",
   "language": "python",
   "name": "python3"
  },
  "language_info": {
   "codemirror_mode": {
    "name": "ipython",
    "version": 3
   },
   "file_extension": ".py",
   "mimetype": "text/x-python",
   "name": "python",
   "nbconvert_exporter": "python",
   "pygments_lexer": "ipython3",
   "version": "3.12.3"
  }
 },
 "nbformat": 4,
 "nbformat_minor": 2
}
